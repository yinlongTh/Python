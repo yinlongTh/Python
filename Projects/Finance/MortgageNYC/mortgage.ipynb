{
 "cells": [
  {
   "cell_type": "markdown",
   "metadata": {},
   "source": [
    "## Mortgage Calculator\n",
    "By Yinlong Thatiynantaporn"
   ]
  },
  {
   "cell_type": "code",
   "execution_count": 1,
   "metadata": {},
   "outputs": [],
   "source": [
    "import numpy as np\n",
    "import matplotlib.pyplot as plt"
   ]
  },
  {
   "cell_type": "code",
   "execution_count": 2,
   "metadata": {},
   "outputs": [],
   "source": [
    "#Calculate How much you have to pay monthly without the property tax\n",
    "def mPay(Loan,month_Interest_Rate,n): \n",
    "    Pay = (Loan*month_Interest_Rate*(1+month_Interest_Rate)**(n))/((1+month_Interest_Rate)**(n)-1)\n",
    "    return Pay "
   ]
  },
  {
   "cell_type": "code",
   "execution_count": 3,
   "metadata": {},
   "outputs": [],
   "source": [
    "#Calculate Actual Monthly Interest\n",
    "def mInterest(Loan,month_Interest_Rate,n): \n",
    "    month_Pay = mPay(Loan,month_Interest_Rate,n)\n",
    "    Interest = np.zeros(int(n))\n",
    "\n",
    "    for i in range(0,int(n),1):\n",
    "        Interest[i] = Loan*month_Interest_Rate\n",
    "        Loan = Loan - (month_Pay - Interest[i]) \n",
    "\n",
    "    return Interest "
   ]
  },
  {
   "cell_type": "code",
   "execution_count": 6,
   "metadata": {},
   "outputs": [],
   "source": [
    "\"\"\"\"\n",
    "USD \n",
    "- No homeowners insurance\n",
    "- NYC Rate\n",
    "\"\"\"\n",
    "#Parameter Setting\n",
    "\n",
    "#House = 500000.0                     \n",
    "House = float(input(\"Property Price :\"))\n",
    "#Down = 125000.0                    \n",
    "Down = float(input(\"Down Payment :\"))\n",
    "Loan = House - Down \n",
    "#Contract = 30.0 #years                \n",
    "Contract = float(input(\"Term in years :\"))\n",
    "#APR = 5                                  \n",
    "APR = float(input(\"#Annual Percentage Rate % :\"))\n",
    "month_Interest_Rate = APR/(12*100)\n",
    "n = float(12*Contract) #Numbers of the Payment\n",
    "\n",
    "property_Tax = House*1.93/100 #NYC Rate Annual\n",
    "\n",
    "\n",
    "#Function calls\n",
    "#Monthly Payment (mp)\n",
    "mp = mPay(Loan,month_Interest_Rate,n) + property_Tax/12 \n",
    "\n",
    "#Monthly Interest (mi)\n",
    "mi = mInterest(Loan,month_Interest_Rate,n)\n",
    "\n",
    "#Monthly load Paid (lm)\n",
    "lm = mp - mi"
   ]
  },
  {
   "cell_type": "code",
   "execution_count": 7,
   "metadata": {},
   "outputs": [
    {
     "data": {
      "image/png": "[encoded data removed]",
      "text/plain": [
       "<Figure size 432x288 with 1 Axes>"
      ]
     },
     "metadata": {
      "needs_background": "light"
     },
     "output_type": "display_data"
    },
    {
     "name": "stdout",
     "output_type": "stream",
     "text": [
      "Monthly Paid : $2817.247752962191\n",
      "Included Property Tax : $804.1666666666666\n",
      "1st month Interest : $1562.5\n",
      "Which is 55.46% of the payment!\n"
     ]
    }
   ],
   "source": [
    "#Result Visualizaion\n",
    "ind = np.arange(n)  \n",
    "width = 0.35\n",
    " \n",
    "fig = plt.figure()\n",
    "ax = fig.add_axes([0,0,1,1])\n",
    "ax.bar(ind, mi, width, color='coral')\n",
    "ax.bar(ind, lm, width,bottom=mi, color='lightblue')\n",
    "ax.set_ylabel('Monthly Payments (USD)')\n",
    "ax.set_title('Months')\n",
    "ax.legend(labels=['Interest', 'Loan Paid'])\n",
    "plt.show()\n",
    "\n",
    "print(\"Monthly Paid : $\" + str(mp))\n",
    "print(\"Included Property Tax : $\" + str(property_Tax/12))\n",
    "print(\"1st month Interest : $\" + str(mi[0]))\n",
    "print(\"Which is \" + str(round((mi[0]/mp)*100,2)) + \"%\" \" of the payment!\")"
   ]
  }
 ],
 "metadata": {
  "kernelspec": {
   "display_name": "Python 3.9.12 ('base')",
   "language": "python",
   "name": "python3"
  },
  "language_info": {
   "codemirror_mode": {
    "name": "ipython",
    "version": 3
   },
   "file_extension": ".py",
   "mimetype": "text/x-python",
   "name": "python",
   "nbconvert_exporter": "python",
   "pygments_lexer": "ipython3",
   "version": "3.9.12"
  },
  "orig_nbformat": 4,
  "vscode": {
   "interpreter": {
    "hash": "c67f2eed8dd365cd817617ab92861ae1ab96cd131cdeb4bc0dbeec1ba84aacfa"
   }
  }
 },
 "nbformat": 4,
 "nbformat_minor": 2
}
