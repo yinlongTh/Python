{
 "cells": [
  {
   "cell_type": "code",
   "execution_count": 1,
   "metadata": {},
   "outputs": [],
   "source": [
    "import glob\n",
    "import pandas as pd\n",
    "from datetime import datetime\n",
    "import urllib.request"
   ]
  },
  {
   "cell_type": "code",
   "execution_count": 2,
   "metadata": {},
   "outputs": [
    {
     "data": {
      "text/plain": [
       "('exchange.csv', <http.client.HTTPMessage at 0x1aad0696b80>)"
      ]
     },
     "execution_count": 2,
     "metadata": {},
     "output_type": "execute_result"
    }
   ],
   "source": [
    "#Files download\n",
    "url1 = 'https://cf-courses-data.s3.us.cloud-object-storage.appdomain.cloud/IBMDeveloperSkillsNetwork-PY0221EN-SkillsNetwork/labs/module%206/Lab%20-%20Extract%20Transform%20Load/data/bank_market_cap_1.json'\n",
    "url2 = 'https://cf-courses-data.s3.us.cloud-object-storage.appdomain.cloud/IBMDeveloperSkillsNetwork-PY0221EN-SkillsNetwork/labs/module%206/Lab%20-%20Extract%20Transform%20Load/data/bank_market_cap_2.json'\n",
    "url3 = 'https://cf-courses-data.s3.us.cloud-object-storage.appdomain.cloud/IBMDeveloperSkillsNetwork-PY0221EN-SkillsNetwork/labs/module%206/Final%20Assignment/exchange_rates.csv'\n",
    "#These data sources are released under the terms of the MIT License by Copyright © 2020 IBM Corporation.\n",
    "\n",
    "file_name1 = 'bank_market_cap_1.json'\n",
    "file_name2 = 'bank_market_cap_2.json'\n",
    "file_name3 = 'exchange.csv'\n",
    "urllib.request.urlretrieve(url1, file_name1)\n",
    "urllib.request.urlretrieve(url2, file_name2)\n",
    "urllib.request.urlretrieve(url3, file_name3)"
   ]
  },
  {
   "cell_type": "markdown",
   "metadata": {},
   "source": [
    "#### Defining"
   ]
  },
  {
   "cell_type": "code",
   "execution_count": 3,
   "metadata": {},
   "outputs": [],
   "source": [
    "#Read & Extract .json\n",
    "def extract_from_json(file):\n",
    "    dataframe = pd.read_json(file)\n",
    "    return dataframe\n",
    "\n",
    "def extractalljson():\n",
    "     for x in glob.glob(\"*.json\"):\n",
    "        dtFrame = extract_from_json(x)\n",
    "        dtFrame = dtFrame.append(extract_from_json(x), ignore_index = True)\n",
    "     return dtFrame\n"
   ]
  },
  {
   "cell_type": "code",
   "execution_count": 4,
   "metadata": {},
   "outputs": [],
   "source": [
    "columns=['Name','Market Cap (US$ Billion)']"
   ]
  },
  {
   "cell_type": "code",
   "execution_count": 5,
   "metadata": {},
   "outputs": [],
   "source": [
    "#Change Currency\n",
    "def transform(data,exchangerate):\n",
    "    dummy = data.rename(columns={\"Market Cap (US$ Billion)\": \"a\"})\n",
    "    dummy[\"a\"] = round(dummy.a*exchangerate,3)\n",
    "    oud = dummy.rename(columns={\"a\": \"Market Cap (GBP Billion)\"})\n",
    "    return oud"
   ]
  },
  {
   "cell_type": "code",
   "execution_count": 6,
   "metadata": {},
   "outputs": [],
   "source": [
    "#Get Exvhange Rate\n",
    "def GetConverttoGBP(file): \n",
    "    dtFrame = pd.read_csv(file)\n",
    "    NewDf = dtFrame.iloc[9,:]\n",
    "    convertor = float(NewDf['Rates'])\n",
    "\n",
    "    return convertor"
   ]
  },
  {
   "cell_type": "code",
   "execution_count": 7,
   "metadata": {},
   "outputs": [],
   "source": [
    "def log(message):\n",
    "    timestamp_format = '%Y-%h-%d-%H:%M:%S'\n",
    "    now = datetime.now() \n",
    "    timestamp = now.strftime(timestamp_format)\n",
    "    with open(\"logfile.txt\",\"a\") as f:\n",
    "        f.write(timestamp + ',' + message + '\\n')"
   ]
  },
  {
   "cell_type": "markdown",
   "metadata": {},
   "source": [
    "#### Running ETL process\n"
   ]
  },
  {
   "cell_type": "code",
   "execution_count": 8,
   "metadata": {},
   "outputs": [
    {
     "name": "stderr",
     "output_type": "stream",
     "text": [
      "C:\\Users\\patrick.s\\AppData\\Local\\Temp\\ipykernel_9688\\2782028888.py:9: FutureWarning: The frame.append method is deprecated and will be removed from pandas in a future version. Use pandas.concat instead.\n",
      "  dtFrame = dtFrame.append(extract_from_json(x), ignore_index = True)\n",
      "C:\\Users\\patrick.s\\AppData\\Local\\Temp\\ipykernel_9688\\2782028888.py:9: FutureWarning: The frame.append method is deprecated and will be removed from pandas in a future version. Use pandas.concat instead.\n",
      "  dtFrame = dtFrame.append(extract_from_json(x), ignore_index = True)\n"
     ]
    }
   ],
   "source": [
    "log(\"ETL Job Started\")\n",
    "log(\"Extract phase Started\")\n",
    "dtFrame = extractalljson()\n",
    "dtFrame[0:5][:]\n",
    "log(\"Extract phase Ended\")"
   ]
  },
  {
   "cell_type": "code",
   "execution_count": 9,
   "metadata": {},
   "outputs": [],
   "source": [
    "log(\"Transform phase Started\")\n",
    "exchangerate = GetConverttoGBP(file_name3)\n",
    "data = transform(dtFrame,exchangerate)\n",
    "data[0:5][:]\n",
    "log(\"Transform phase Ended\")"
   ]
  },
  {
   "cell_type": "code",
   "execution_count": 10,
   "metadata": {},
   "outputs": [],
   "source": [
    "log(\"Load phase Started\")\n",
    "data.to_csv('CapInGBP.txt', index=False)\n",
    "log(\"Load phase Ended\")"
   ]
  }
 ],
 "metadata": {
  "kernelspec": {
   "display_name": "Python 3.9.12 ('base')",
   "language": "python",
   "name": "python3"
  },
  "language_info": {
   "codemirror_mode": {
    "name": "ipython",
    "version": 3
   },
   "file_extension": ".py",
   "mimetype": "text/x-python",
   "name": "python",
   "nbconvert_exporter": "python",
   "pygments_lexer": "ipython3",
   "version": "3.9.12"
  },
  "vscode": {
   "interpreter": {
    "hash": "c67f2eed8dd365cd817617ab92861ae1ab96cd131cdeb4bc0dbeec1ba84aacfa"
   }
  }
 },
 "nbformat": 4,
 "nbformat_minor": 4
}
