{
 "cells": [
  {
   "cell_type": "markdown",
   "id": "3ebf6608",
   "metadata": {},
   "source": [
    "# DB API"
   ]
  },
  {
   "cell_type": "markdown",
   "id": "18e79e9b",
   "metadata": {},
   "source": [
    "## Import the ibm_db Python library"
   ]
  },
  {
   "cell_type": "code",
   "execution_count": 2,
   "id": "84828285",
   "metadata": {},
   "outputs": [
    {
     "name": "stdout",
     "output_type": "stream",
     "text": [
      "Collecting ibm_db==3.1.0\n",
      "  Using cached ibm_db-3.1.0-py3-none-any.whl\n",
      "Collecting ibm_db_sa==0.3.3\n",
      "  Using cached ibm_db_sa-0.3.3-py3-none-any.whl\n",
      "Collecting sqlalchemy>=0.7.3\n",
      "  Using cached SQLAlchemy-1.4.29-cp39-cp39-win_amd64.whl (1.5 MB)\n",
      "Collecting greenlet!=0.4.17\n",
      "  Using cached greenlet-1.1.2-cp39-cp39-win_amd64.whl (101 kB)\n",
      "Installing collected packages: greenlet, sqlalchemy, ibm-db-sa, ibm-db\n",
      "  Attempting uninstall: greenlet\n",
      "    Found existing installation: greenlet 1.1.2\n",
      "    Uninstalling greenlet-1.1.2:\n",
      "      Successfully uninstalled greenlet-1.1.2\n",
      "  Attempting uninstall: sqlalchemy\n",
      "    Found existing installation: SQLAlchemy 1.3.24\n",
      "    Uninstalling SQLAlchemy-1.3.24:\n",
      "      Successfully uninstalled SQLAlchemy-1.3.24\n",
      "  Attempting uninstall: ibm-db-sa\n",
      "    Found existing installation: ibm-db-sa 0.3.3\n",
      "    Uninstalling ibm-db-sa-0.3.3:\n",
      "      Successfully uninstalled ibm-db-sa-0.3.3\n",
      "  Attempting uninstall: ibm-db\n",
      "    Found existing installation: ibm-db 3.1.0\n",
      "    Uninstalling ibm-db-3.1.0:\n",
      "      Successfully uninstalled ibm-db-3.1.0\n",
      "Successfully installed greenlet-1.1.2 ibm-db-3.1.0 ibm-db-sa-0.3.3 sqlalchemy-1.4.29\n",
      "Found existing installation: SQLAlchemy 1.4.29\n",
      "Uninstalling SQLAlchemy-1.4.29:\n",
      "  Successfully uninstalled SQLAlchemy-1.4.29\n",
      "Collecting sqlalchemy==1.3.24\n",
      "  Using cached SQLAlchemy-1.3.24-cp39-cp39-win_amd64.whl (1.2 MB)\n",
      "Installing collected packages: sqlalchemy\n",
      "Successfully installed sqlalchemy-1.3.24\n",
      "Requirement already satisfied: ipython-sql in c:\\users\\xiaol\\anaconda3\\lib\\site-packages (0.4.0)\n",
      "Requirement already satisfied: ipython-genutils>=0.1.0 in c:\\users\\xiaol\\anaconda3\\lib\\site-packages (from ipython-sql) (0.2.0)\n",
      "Requirement already satisfied: ipython>=1.0 in c:\\users\\xiaol\\anaconda3\\lib\\site-packages (from ipython-sql) (7.29.0)\n",
      "Requirement already satisfied: sqlparse in c:\\users\\xiaol\\anaconda3\\lib\\site-packages (from ipython-sql) (0.4.2)\n",
      "Requirement already satisfied: prettytable<1 in c:\\users\\xiaol\\anaconda3\\lib\\site-packages (from ipython-sql) (0.7.2)\n",
      "Requirement already satisfied: sqlalchemy>=0.6.7 in c:\\users\\xiaol\\anaconda3\\lib\\site-packages (from ipython-sql) (1.3.24)\n",
      "Requirement already satisfied: six in c:\\users\\xiaol\\anaconda3\\lib\\site-packages (from ipython-sql) (1.16.0)\n",
      "Requirement already satisfied: jedi>=0.16 in c:\\users\\xiaol\\anaconda3\\lib\\site-packages (from ipython>=1.0->ipython-sql) (0.18.0)\n",
      "Requirement already satisfied: pickleshare in c:\\users\\xiaol\\anaconda3\\lib\\site-packages (from ipython>=1.0->ipython-sql) (0.7.5)\n",
      "Requirement already satisfied: decorator in c:\\users\\xiaol\\anaconda3\\lib\\site-packages (from ipython>=1.0->ipython-sql) (5.1.0)\n",
      "Requirement already satisfied: colorama in c:\\users\\xiaol\\anaconda3\\lib\\site-packages (from ipython>=1.0->ipython-sql) (0.4.4)\n",
      "Requirement already satisfied: prompt-toolkit!=3.0.0,!=3.0.1,<3.1.0,>=2.0.0 in c:\\users\\xiaol\\anaconda3\\lib\\site-packages (from ipython>=1.0->ipython-sql) (3.0.20)\n",
      "Requirement already satisfied: traitlets>=4.2 in c:\\users\\xiaol\\anaconda3\\lib\\site-packages (from ipython>=1.0->ipython-sql) (5.1.0)\n",
      "Requirement already satisfied: backcall in c:\\users\\xiaol\\anaconda3\\lib\\site-packages (from ipython>=1.0->ipython-sql) (0.2.0)\n",
      "Requirement already satisfied: setuptools>=18.5 in c:\\users\\xiaol\\anaconda3\\lib\\site-packages (from ipython>=1.0->ipython-sql) (58.0.4)\n",
      "Requirement already satisfied: pygments in c:\\users\\xiaol\\anaconda3\\lib\\site-packages (from ipython>=1.0->ipython-sql) (2.10.0)\n",
      "Requirement already satisfied: matplotlib-inline in c:\\users\\xiaol\\anaconda3\\lib\\site-packages (from ipython>=1.0->ipython-sql) (0.1.2)\n",
      "Requirement already satisfied: parso<0.9.0,>=0.8.0 in c:\\users\\xiaol\\anaconda3\\lib\\site-packages (from jedi>=0.16->ipython>=1.0->ipython-sql) (0.8.2)\n",
      "Requirement already satisfied: wcwidth in c:\\users\\xiaol\\anaconda3\\lib\\site-packages (from prompt-toolkit!=3.0.0,!=3.0.1,<3.1.0,>=2.0.0->ipython>=1.0->ipython-sql) (0.2.5)\n"
     ]
    }
   ],
   "source": [
    "# These libraries are pre-installed in SN Labs.\n",
    "!pip install --force-reinstall ibm_db==3.1.0 ibm_db_sa==0.3.3\n",
    "!pip uninstall sqlalchemy==1.4 -y && pip install sqlalchemy==1.3.24\n",
    "!pip install ipython-sql"
   ]
  },
  {
   "cell_type": "code",
   "execution_count": 3,
   "id": "1517f64d",
   "metadata": {},
   "outputs": [],
   "source": [
    "import ibm_db"
   ]
  },
  {
   "cell_type": "markdown",
   "id": "3560facb",
   "metadata": {},
   "source": [
    "## Identify the database connection credentials"
   ]
  },
  {
   "cell_type": "markdown",
   "id": "38c07e1d",
   "metadata": {},
   "source": [
    "- Driver Name\n",
    "- Database name\n",
    "- Host DNS name or IP address\n",
    "- Host port\n",
    "- Connection protocol\n",
    "- User ID (or username)\n",
    "- User Password"
   ]
  },
  {
   "cell_type": "code",
   "execution_count": 11,
   "id": "dc9f37d9",
   "metadata": {},
   "outputs": [],
   "source": [
    "#Replace the placeholder values with your actual Db2 hostname, username, and password:\n",
    "dsn_hostname = \"98538591-7217-4024-b027-8baa776ffad1.c3n41cmd0nqnrk39u98g.databases.appdomain.cloud\" \n",
    "dsn_uid = \"jcq03906\"        # e.g. \"abc12345\"\n",
    "dsn_pwd = \"rMeni7KFtomfJ0q6\"      # e.g. \"7dBZ3wWt9XN6$o0J\"\n",
    "\n",
    "dsn_driver = \"{IBM DB2 ODBC DRIVER}\"\n",
    "dsn_database = \"BLUDB\"            # e.g. \"BLUDB\"\n",
    "dsn_port = \"30875\"                # e.g. \"32733\" \n",
    "dsn_protocol = \"TCPIP\"            # i.e. \"TCPIP\"\n",
    "dsn_security = \"SSL\"              #i.e. \"SSL\""
   ]
  },
  {
   "cell_type": "markdown",
   "id": "e05acba1",
   "metadata": {},
   "source": [
    "## Create the DB2 database connection"
   ]
  },
  {
   "cell_type": "code",
   "execution_count": 12,
   "id": "8cdbc284",
   "metadata": {},
   "outputs": [
    {
     "name": "stdout",
     "output_type": "stream",
     "text": [
      "DRIVER={IBM DB2 ODBC DRIVER};DATABASE=BLUDB;HOSTNAME=98538591-7217-4024-b027-8baa776ffad1.c3n41cmd0nqnrk39u98g.databases.appdomain.cloud;PORT=30875;PROTOCOL=TCPIP;UID=jcq03906;PWD=rMeni7KFtomfJ0q6;SECURITY=SSL;\n"
     ]
    }
   ],
   "source": [
    "#Create the dsn connection string\n",
    "dsn = (\n",
    "    \"DRIVER={0};\"\n",
    "    \"DATABASE={1};\"\n",
    "    \"HOSTNAME={2};\"\n",
    "    \"PORT={3};\"\n",
    "    \"PROTOCOL={4};\"\n",
    "    \"UID={5};\"\n",
    "    \"PWD={6};\"\n",
    "    \"SECURITY={7};\").format(dsn_driver, dsn_database, dsn_hostname, dsn_port, dsn_protocol, dsn_uid, dsn_pwd,dsn_security)\n",
    "\n",
    "#print the connection string to check correct values are specified\n",
    "print(dsn)"
   ]
  },
  {
   "cell_type": "markdown",
   "id": "81f5b648",
   "metadata": {},
   "source": [
    "## Establish the connection to the database"
   ]
  },
  {
   "cell_type": "code",
   "execution_count": 13,
   "id": "861a8947",
   "metadata": {},
   "outputs": [
    {
     "name": "stdout",
     "output_type": "stream",
     "text": [
      "Connected to database:  BLUDB as user:  jcq03906 on host:  98538591-7217-4024-b027-8baa776ffad1.c3n41cmd0nqnrk39u98g.databases.appdomain.cloud\n"
     ]
    }
   ],
   "source": [
    "#Create database connection\n",
    "\n",
    "try:\n",
    "    conn = ibm_db.connect(dsn, \"\", \"\")\n",
    "    print (\"Connected to database: \", dsn_database, \"as user: \", dsn_uid, \"on host: \", dsn_hostname)\n",
    "\n",
    "except:\n",
    "    print (\"Unable to connect: \", ibm_db.conn_errormsg() )\n"
   ]
  },
  {
   "cell_type": "code",
   "execution_count": 14,
   "id": "a8d83d1d",
   "metadata": {},
   "outputs": [
    {
     "name": "stdout",
     "output_type": "stream",
     "text": [
      "DBMS_NAME:  DB2/LINUXX8664\n",
      "DBMS_VER:   11.05.0600\n",
      "DB_NAME:    BLUDB\n"
     ]
    }
   ],
   "source": [
    "#Retrieve Metadata for the Database Server\n",
    "server = ibm_db.server_info(conn)\n",
    "\n",
    "print (\"DBMS_NAME: \", server.DBMS_NAME)\n",
    "print (\"DBMS_VER:  \", server.DBMS_VER)\n",
    "print (\"DB_NAME:   \", server.DB_NAME)"
   ]
  },
  {
   "cell_type": "code",
   "execution_count": 15,
   "id": "e0f77230",
   "metadata": {},
   "outputs": [
    {
     "name": "stdout",
     "output_type": "stream",
     "text": [
      "DRIVER_NAME:           DB2CLI.DLL\n",
      "DRIVER_VER:            11.05.0500\n",
      "DATA_SOURCE_NAME:      BLUDB\n",
      "DRIVER_ODBC_VER:       03.51\n",
      "ODBC_VER:              03.01.0000\n",
      "ODBC_SQL_CONFORMANCE:  EXTENDED\n",
      "APPL_CODEPAGE:         1252\n",
      "CONN_CODEPAGE:         1208\n"
     ]
    }
   ],
   "source": [
    "#Retrieve Metadata for the Database Client / Driver\n",
    "client = ibm_db.client_info(conn)\n",
    "\n",
    "print (\"DRIVER_NAME:          \", client.DRIVER_NAME) \n",
    "print (\"DRIVER_VER:           \", client.DRIVER_VER)\n",
    "print (\"DATA_SOURCE_NAME:     \", client.DATA_SOURCE_NAME)\n",
    "print (\"DRIVER_ODBC_VER:      \", client.DRIVER_ODBC_VER)\n",
    "print (\"ODBC_VER:             \", client.ODBC_VER)\n",
    "print (\"ODBC_SQL_CONFORMANCE: \", client.ODBC_SQL_CONFORMANCE)\n",
    "print (\"APPL_CODEPAGE:        \", client.APPL_CODEPAGE)\n",
    "print (\"CONN_CODEPAGE:        \", client.CONN_CODEPAGE)"
   ]
  },
  {
   "cell_type": "markdown",
   "id": "35f629b4",
   "metadata": {},
   "source": [
    "================================================================================"
   ]
  },
  {
   "cell_type": "markdown",
   "id": "77939333",
   "metadata": {},
   "source": [
    "## Create a data table to Db "
   ]
  },
  {
   "cell_type": "code",
   "execution_count": 18,
   "id": "55c8ffcb",
   "metadata": {},
   "outputs": [],
   "source": [
    "# Create Table DDL\n",
    "createQuery = \"create table INSTRUCTOR(ID INTEGER PRIMARY KEY NOT NULL, FNAME VARCHAR(20), LNAME VARCHAR(20), CITY VARCHAR(20), CCODE CHAR(2))\"\n",
    "\n",
    "# Create Table\n",
    "createStatement = ibm_db.exec_immediate(conn, createQuery)"
   ]
  },
  {
   "cell_type": "code",
   "execution_count": 22,
   "id": "7e3e31d3",
   "metadata": {},
   "outputs": [],
   "source": [
    "# Insert Data to the DbTable\n",
    "insertQuery = \"insert into INSTRUCTOR values (1, 'Yinlong', 'Saetiao', 'Toronto', 'CA')\" \n",
    "insertStatement = ibm_db.exec_immediate(conn, insertQuery)\n",
    "\n",
    "insertQuery2 = \"insert into INSTRUCTOR values (2, 'Min Jun', 'Lee', 'New York', 'US')\" \n",
    "insertStatement = ibm_db.exec_immediate(conn, insertQuery2)\n"
   ]
  },
  {
   "cell_type": "code",
   "execution_count": 24,
   "id": "985c1532",
   "metadata": {},
   "outputs": [],
   "source": [
    "# Change information\n",
    "changeQuery = \"update INSTRUCTOR set CITY='Ottawa' where FNAME = 'Yinlong'\"\n",
    "updateStatement = ibm_db.exec_immediate(conn, changeQuery)"
   ]
  },
  {
   "cell_type": "markdown",
   "id": "f730559a",
   "metadata": {},
   "source": [
    "## Query data"
   ]
  },
  {
   "cell_type": "code",
   "execution_count": 31,
   "id": "75b36f4a",
   "metadata": {},
   "outputs": [],
   "source": [
    "selectQuery = \"select * from INSTRUCTOR\"\n",
    "\n",
    "selectStatement = ibm_db.exec_immediate(conn, selectQuery)"
   ]
  },
  {
   "cell_type": "code",
   "execution_count": 32,
   "id": "af10a5fa",
   "metadata": {},
   "outputs": [
    {
     "name": "stdout",
     "output_type": "stream",
     "text": [
      " ID: 1  FNAME: Yinlong Ottawa\n",
      " ID: 2  FNAME: Min Jun New York\n"
     ]
    }
   ],
   "source": [
    "while ibm_db.fetch_row(selectStatement) != False:\n",
    "    print (\" ID:\",  ibm_db.result(selectStatement, 0), \" FNAME:\",  ibm_db.result(selectStatement, \"FNAME\"), ibm_db.result(selectStatement, \"CITY\"))"
   ]
  },
  {
   "cell_type": "markdown",
   "id": "69850c1f",
   "metadata": {},
   "source": [
    "## Put Data into Panda DataFrame "
   ]
  },
  {
   "cell_type": "code",
   "execution_count": 33,
   "id": "b04899f3",
   "metadata": {},
   "outputs": [],
   "source": [
    "import pandas\n",
    "import ibm_db_dbi\n",
    "\n",
    "pconn = ibm_db_dbi.Connection(conn)"
   ]
  },
  {
   "cell_type": "code",
   "execution_count": 34,
   "id": "528011bb",
   "metadata": {},
   "outputs": [],
   "source": [
    "selectQuery = \"select * from INSTRUCTOR\"\n",
    "ou_dtFrame = pandas.read_sql(selectQuery, pconn)"
   ]
  },
  {
   "cell_type": "code",
   "execution_count": 35,
   "id": "fb49e146",
   "metadata": {},
   "outputs": [
    {
     "data": {
      "text/html": [
       "<div>\n",
       "<style scoped>\n",
       "    .dataframe tbody tr th:only-of-type {\n",
       "        vertical-align: middle;\n",
       "    }\n",
       "\n",
       "    .dataframe tbody tr th {\n",
       "        vertical-align: top;\n",
       "    }\n",
       "\n",
       "    .dataframe thead th {\n",
       "        text-align: right;\n",
       "    }\n",
       "</style>\n",
       "<table border=\"1\" class=\"dataframe\">\n",
       "  <thead>\n",
       "    <tr style=\"text-align: right;\">\n",
       "      <th></th>\n",
       "      <th>ID</th>\n",
       "      <th>FNAME</th>\n",
       "      <th>LNAME</th>\n",
       "      <th>CITY</th>\n",
       "      <th>CCODE</th>\n",
       "    </tr>\n",
       "  </thead>\n",
       "  <tbody>\n",
       "    <tr>\n",
       "      <th>0</th>\n",
       "      <td>1</td>\n",
       "      <td>Yinlong</td>\n",
       "      <td>Saetiao</td>\n",
       "      <td>Ottawa</td>\n",
       "      <td>CA</td>\n",
       "    </tr>\n",
       "    <tr>\n",
       "      <th>1</th>\n",
       "      <td>2</td>\n",
       "      <td>Min Jun</td>\n",
       "      <td>Lee</td>\n",
       "      <td>New York</td>\n",
       "      <td>US</td>\n",
       "    </tr>\n",
       "  </tbody>\n",
       "</table>\n",
       "</div>"
      ],
      "text/plain": [
       "   ID    FNAME    LNAME      CITY CCODE\n",
       "0   1  Yinlong  Saetiao    Ottawa    CA\n",
       "1   2  Min Jun      Lee  New York    US"
      ]
     },
     "execution_count": 35,
     "metadata": {},
     "output_type": "execute_result"
    }
   ],
   "source": [
    "ou_dtFrame"
   ]
  },
  {
   "cell_type": "markdown",
   "id": "06dec808",
   "metadata": {},
   "source": [
    "================================================================================"
   ]
  },
  {
   "cell_type": "markdown",
   "id": "b28d27a8",
   "metadata": {},
   "source": [
    "## Close connection after using"
   ]
  },
  {
   "cell_type": "code",
   "execution_count": 36,
   "id": "aedf5988",
   "metadata": {},
   "outputs": [
    {
     "data": {
      "text/plain": [
       "True"
      ]
     },
     "execution_count": 36,
     "metadata": {},
     "output_type": "execute_result"
    }
   ],
   "source": [
    "ibm_db.close(conn)"
   ]
  }
 ],
 "metadata": {
  "kernelspec": {
   "display_name": "Python 3.9.12 ('base')",
   "language": "python",
   "name": "python3"
  },
  "language_info": {
   "codemirror_mode": {
    "name": "ipython",
    "version": 3
   },
   "file_extension": ".py",
   "mimetype": "text/x-python",
   "name": "python",
   "nbconvert_exporter": "python",
   "pygments_lexer": "ipython3",
   "version": "3.9.12"
  },
  "vscode": {
   "interpreter": {
    "hash": "c67f2eed8dd365cd817617ab92861ae1ab96cd131cdeb4bc0dbeec1ba84aacfa"
   }
  }
 },
 "nbformat": 4,
 "nbformat_minor": 5
}
