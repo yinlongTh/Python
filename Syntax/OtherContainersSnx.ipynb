{
 "cells": [
  {
   "cell_type": "markdown",
   "metadata": {},
   "source": [
    "### Other Containers"
   ]
  },
  {
   "cell_type": "markdown",
   "metadata": {},
   "source": [
    "#### Tuples\n",
    "- Tuples enclosed in \"( )\" are similar to lists.\n",
    "- Tuple object does not support item assignment"
   ]
  },
  {
   "cell_type": "markdown",
   "metadata": {},
   "source": [
    "#### Dictionaries\n",
    "- key: value pairs \n",
    "- fruit = {'apples': 5, 'bananas': 12, 'oranges': 4}"
   ]
  },
  {
   "cell_type": "markdown",
   "metadata": {},
   "source": [
    "#### Set\n",
    "- Unordered collections of unique elements.\n",
    "- sample = {'apples', 'text', 3.14, 9}\n",
    "- Able to do set operations"
   ]
  }
 ],
 "metadata": {
  "kernelspec": {
   "display_name": "Python 3.9.12 ('base')",
   "language": "python",
   "name": "python3"
  },
  "language_info": {
   "name": "python",
   "version": "3.9.12"
  },
  "orig_nbformat": 4,
  "vscode": {
   "interpreter": {
    "hash": "c67f2eed8dd365cd817617ab92861ae1ab96cd131cdeb4bc0dbeec1ba84aacfa"
   }
  }
 },
 "nbformat": 4,
 "nbformat_minor": 2
}
