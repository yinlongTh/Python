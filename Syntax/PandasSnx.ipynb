{
 "cells": [
  {
   "cell_type": "code",
   "execution_count": 1,
   "metadata": {},
   "outputs": [],
   "source": [
    "import pandas as pd"
   ]
  },
  {
   "cell_type": "markdown",
   "metadata": {},
   "source": [
    "# Pandas\n",
    "Read / Write / Manipulate with data as DataFrame"
   ]
  },
  {
   "cell_type": "markdown",
   "metadata": {},
   "source": [
    "-------------------------------------------------------------------"
   ]
  },
  {
   "cell_type": "markdown",
   "metadata": {},
   "source": [
    "### Caution\n",
    "..."
   ]
  },
  {
   "cell_type": "markdown",
   "metadata": {},
   "source": [
    "-------------------------------------------------------------------"
   ]
  },
  {
   "cell_type": "markdown",
   "metadata": {},
   "source": [
    "### Simple Syntax"
   ]
  },
  {
   "cell_type": "markdown",
   "metadata": {},
   "source": [
    "Creating"
   ]
  },
  {
   "cell_type": "code",
   "execution_count": 4,
   "metadata": {},
   "outputs": [
    {
     "name": "stdout",
     "output_type": "stream",
     "text": [
      "[[1 1 1 1 1 2 2 2 2 2 3 3 3 3 3]]\n"
     ]
    }
   ],
   "source": [
    "#Reading\n",
    "df = pd.read_csv('Something.csv') #Specify delimiter (... , delimiter = '...')\n",
    "dfExcel = pd.read_excel('Something.xlsx')\n"
   ]
  },
  {
   "cell_type": "code",
   "execution_count": null,
   "metadata": {},
   "outputs": [],
   "source": [
    "#When Data is pretty large : use \"chunksize\" to slipt\n",
    "\n",
    "GetDataFrame = pd.DataFrame(columns=['column1','column2'])\n",
    "\n",
    "for df in pd.read_csv('VeryLarge.csv', chunksize=100): #100 rows each loop\n",
    "    tmpDataCount = df.groupby(['Column1']) \n",
    "    new_df = pd.concat([GetDataFrame, tmpDataCount])\n",
    "\n",
    "    #Can use .groupby and .concat to organizely append the result"
   ]
  },
  {
   "cell_type": "markdown",
   "metadata": {},
   "source": [
    "Queries"
   ]
  },
  {
   "cell_type": "code",
   "execution_count": null,
   "metadata": {},
   "outputs": [],
   "source": [
    "df.head(3) #Top 3 as index\n",
    "\n",
    "df.columns #Column names\n",
    "\n",
    "df[['column1', 'column2', ... ]] #query as the column and index\n",
    "\n",
    "df.iloc[i:j] #query as each row (index i to j) | Use .loc to use column names\n",
    "\n",
    "#.iterrows()\n",
    "\n",
    "df.sort_values(['column1', 'column2', ... ], ascending=[1,0, ...]) #sorting\n",
    "\n",
    "\n",
    "#Filtering Example\n",
    "NewDf = df.loc[(df['Column1'] == 'Box') & (df['Column2'] != 'Steel') & (df['Column3'] > 1)]\n",
    "\n",
    "\n",
    "#SQL Like\n",
    "df.groupby(['Column1', 'Column2']).count()['count']\n",
    "\n"
   ]
  },
  {
   "cell_type": "markdown",
   "metadata": {},
   "source": [
    "Manipulation"
   ]
  },
  {
   "cell_type": "code",
   "execution_count": null,
   "metadata": {},
   "outputs": [],
   "source": [
    "df['NewColumnName'] = ... New data ...\n",
    "\n",
    "df.reset_index(drop=True, inplace=True)\n"
   ]
  },
  {
   "cell_type": "markdown",
   "metadata": {},
   "source": [
    "#### Exporting Data"
   ]
  },
  {
   "cell_type": "code",
   "execution_count": null,
   "metadata": {},
   "outputs": [],
   "source": [
    "df.to_csv('OPName.csv', index=False)\n",
    "\n",
    "df.to_excel('OPName.xlsx', index=False)\n",
    "\n",
    "df.to_csv('OPName.txt', index=False, sep='\\t')"
   ]
  }
 ],
 "metadata": {
  "kernelspec": {
   "display_name": "Python 3.9.12 ('base')",
   "language": "python",
   "name": "python3"
  },
  "language_info": {
   "codemirror_mode": {
    "name": "ipython",
    "version": 3
   },
   "file_extension": ".py",
   "mimetype": "text/x-python",
   "name": "python",
   "nbconvert_exporter": "python",
   "pygments_lexer": "ipython3",
   "version": "3.9.12"
  },
  "orig_nbformat": 4,
  "vscode": {
   "interpreter": {
    "hash": "c67f2eed8dd365cd817617ab92861ae1ab96cd131cdeb4bc0dbeec1ba84aacfa"
   }
  }
 },
 "nbformat": 4,
 "nbformat_minor": 2
}
