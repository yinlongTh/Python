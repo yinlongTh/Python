{
 "cells": [
  {
   "cell_type": "code",
   "execution_count": 1,
   "metadata": {},
   "outputs": [],
   "source": [
    "import numpy as np"
   ]
  },
  {
   "cell_type": "markdown",
   "metadata": {},
   "source": [
    "# NumPy\n",
    "Basically is a MATLAB for Python\n",
    "Allow us to work with multi dimentional arrays + Math"
   ]
  },
  {
   "cell_type": "markdown",
   "metadata": {},
   "source": [
    "### Numpy vs List\n",
    "\n",
    "- Numpy is Fast : Fixed type, Able to specify int32/16/8\n",
    "                : Use contiguous memory\n",
    "\n",
    "- List is Slow : for one data point, Store 'Size', 'Reference Count', 'Object Type' ,'Value' \n",
    "               : This makes a List be able to store various type of data \n",
    "               : Scatered memory storing"
   ]
  },
  {
   "cell_type": "markdown",
   "metadata": {},
   "source": [
    "-------------------------------------------------------------------"
   ]
  },
  {
   "cell_type": "markdown",
   "metadata": {},
   "source": [
    "### Caution\n",
    "If we use array 'b' = array 'a' (b=a) syntax.\n",
    "That means 'b' and 'a' are sharing memories. \n",
    "When we change values of 'b', 'a' will get changed as well.\n",
    "\n",
    "Use b = a.copy()"
   ]
  },
  {
   "cell_type": "markdown",
   "metadata": {},
   "source": [
    "-------------------------------------------------------------------"
   ]
  },
  {
   "cell_type": "markdown",
   "metadata": {},
   "source": [
    "### Simple Syntax"
   ]
  },
  {
   "cell_type": "markdown",
   "metadata": {},
   "source": [
    "Creating"
   ]
  },
  {
   "cell_type": "code",
   "execution_count": 4,
   "metadata": {},
   "outputs": [
    {
     "name": "stdout",
     "output_type": "stream",
     "text": [
      "[[1 1 1 1 1 2 2 2 2 2 3 3 3 3 3]]\n"
     ]
    }
   ],
   "source": [
    "a = np.array([1,2,3], dtype='int8') #to create and fix type, unless np.array([...]) -> for 2D ([[...],[...]])\n",
    "\n",
    "RepeatA = np.repeat(a,5,axis=0) # Vertical axis = 0\n",
    "\n",
    "print(RepeatA)"
   ]
  },
  {
   "cell_type": "markdown",
   "metadata": {},
   "source": [
    "Manipulation"
   ]
  },
  {
   "cell_type": "code",
   "execution_count": null,
   "metadata": {},
   "outputs": [],
   "source": [
    "#Get Dimension or using \"a.shape\"\n",
    "a.ndim\n",
    "\n",
    "#Get Type\n",
    "a.dtype\n",
    "\n",
    "#Get the sizes of each item\n",
    "a.itemsize\n",
    "\n",
    "#Accessing\n",
    "a[0:2] #Like MATLAB but [start:end:step] | outside in [z,x,y] index dimension"
   ]
  },
  {
   "cell_type": "markdown",
   "metadata": {},
   "source": [
    "MATLAB Compare"
   ]
  },
  {
   "cell_type": "code",
   "execution_count": null,
   "metadata": {},
   "outputs": [],
   "source": [
    "#Other MATLAB like\n",
    "np.zeros((4,6)) #ones \n",
    "np.full((3,4), 5)\n",
    "np.random.rand(6,5)\n",
    "np.identity(3)\n",
    "\n",
    "#and alot more but mostly MATLAB alike ( max, min, reshape .... )"
   ]
  },
  {
   "cell_type": "markdown",
   "metadata": {},
   "source": [
    "#### Read from file"
   ]
  },
  {
   "cell_type": "code",
   "execution_count": null,
   "metadata": {},
   "outputs": [],
   "source": [
    "#From txt\n",
    "DataArray = np.genfromtxt('something.txt', delimiter=',') #Set delimiter"
   ]
  }
 ],
 "metadata": {
  "kernelspec": {
   "display_name": "Python 3.9.12 ('base')",
   "language": "python",
   "name": "python3"
  },
  "language_info": {
   "codemirror_mode": {
    "name": "ipython",
    "version": 3
   },
   "file_extension": ".py",
   "mimetype": "text/x-python",
   "name": "python",
   "nbconvert_exporter": "python",
   "pygments_lexer": "ipython3",
   "version": "3.9.12"
  },
  "orig_nbformat": 4,
  "vscode": {
   "interpreter": {
    "hash": "c67f2eed8dd365cd817617ab92861ae1ab96cd131cdeb4bc0dbeec1ba84aacfa"
   }
  }
 },
 "nbformat": 4,
 "nbformat_minor": 2
}
