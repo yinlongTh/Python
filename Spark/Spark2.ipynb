{
 "cells": [
  {
   "cell_type": "code",
   "execution_count": null,
   "id": "c62a8228",
   "metadata": {},
   "outputs": [],
   "source": [
    "# Installing required packages\n",
    "!pip install pyspark\n",
    "!pip install findspark\n",
    "!pip install pyarrow\n",
    "!pip install pandas\n",
    "!pip install numpy==1.19.5"
   ]
  },
  {
   "cell_type": "code",
   "execution_count": null,
   "id": "17e13914",
   "metadata": {},
   "outputs": [],
   "source": [
    "import findspark\n",
    "findspark.init()"
   ]
  },
  {
   "cell_type": "code",
   "execution_count": null,
   "id": "63428c68",
   "metadata": {},
   "outputs": [],
   "source": [
    "import pandas as pd\n",
    "from pyspark import SparkContext, SparkConf\n",
    "from pyspark.sql import SparkSession"
   ]
  },
  {
   "cell_type": "markdown",
   "id": "f891d5ab",
   "metadata": {},
   "source": [
    "## Spark session\n"
   ]
  },
  {
   "cell_type": "code",
   "execution_count": null,
   "id": "b76dca0a",
   "metadata": {},
   "outputs": [],
   "source": [
    "# Creating a spark context class\n",
    "sc = SparkContext()\n",
    "\n",
    "# Creating a spark session\n",
    "spark = SparkSession \\\n",
    "    .builder \\\n",
    "    .appName(\"Python Spark DataFrames basic example\") \\\n",
    "    .config(\"spark.some.config.option\", \"some-value\") \\\n",
    "    .getOrCreate()"
   ]
  },
  {
   "cell_type": "markdown",
   "id": "d40e9df3",
   "metadata": {},
   "source": [
    "#### Initialize Spark session"
   ]
  },
  {
   "cell_type": "code",
   "execution_count": null,
   "id": "943ca349",
   "metadata": {},
   "outputs": [],
   "source": [
    "spark"
   ]
  },
  {
   "cell_type": "markdown",
   "id": "a7960a0b",
   "metadata": {},
   "source": [
    "## Import CSV file and read"
   ]
  },
  {
   "cell_type": "code",
   "execution_count": null,
   "id": "b9150a33",
   "metadata": {},
   "outputs": [],
   "source": [
    "# Read the file using `read_csv` function in pandas\n",
    "mtcars = pd.read_csv('https://....csv')"
   ]
  },
  {
   "cell_type": "markdown",
   "id": "5a7905a6",
   "metadata": {},
   "source": [
    "## load data into spark DataFrame"
   ]
  },
  {
   "cell_type": "code",
   "execution_count": null,
   "id": "a22cd48b",
   "metadata": {},
   "outputs": [],
   "source": [
    "sdf = spark.createDataFrame(mtcars)"
   ]
  },
  {
   "cell_type": "markdown",
   "id": "1603d526",
   "metadata": {},
   "source": [
    "## View data and query"
   ]
  },
  {
   "cell_type": "code",
   "execution_count": null,
   "id": "22b8780a",
   "metadata": {},
   "outputs": [],
   "source": [
    "sdf.printSchema()"
   ]
  },
  {
   "cell_type": "code",
   "execution_count": null,
   "id": "c2fb68ba",
   "metadata": {},
   "outputs": [],
   "source": [
    "sdf.createTempView(\"cars\")"
   ]
  },
  {
   "cell_type": "code",
   "execution_count": null,
   "id": "82da610e",
   "metadata": {},
   "outputs": [],
   "source": [
    "spark.sql(\"SELECT * FROM cars\").show()\n",
    "spark.sql(\"SELECT mpg FROM cars\").show(5)"
   ]
  }
 ],
 "metadata": {
  "kernelspec": {
   "display_name": "Python 3 (ipykernel)",
   "language": "python",
   "name": "python3"
  },
  "language_info": {
   "codemirror_mode": {
    "name": "ipython",
    "version": 3
   },
   "file_extension": ".py",
   "mimetype": "text/x-python",
   "name": "python",
   "nbconvert_exporter": "python",
   "pygments_lexer": "ipython3",
   "version": "3.9.7"
  }
 },
 "nbformat": 4,
 "nbformat_minor": 5
}
