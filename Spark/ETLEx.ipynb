{
 "cells": [
  {
   "cell_type": "code",
   "execution_count": null,
   "id": "64cbdfcc",
   "metadata": {},
   "outputs": [],
   "source": [
    "%%bash\n",
    "rm -Rf claimed\n",
    "git clone https://github.com/IBM/claimed.git\n",
    "cd claimed"
   ]
  },
  {
   "cell_type": "markdown",
   "id": "f96ee713",
   "metadata": {},
   "source": [
    "### Input hmp"
   ]
  },
  {
   "cell_type": "code",
   "execution_count": null,
   "id": "c36d1dd0",
   "metadata": {},
   "outputs": [],
   "source": [
    "!ipython ./claimed/component-library/input/input-hmp.ipynb data_dir=./data/ sample=0.01"
   ]
  },
  {
   "cell_type": "markdown",
   "id": "bf096c63",
   "metadata": {},
   "source": [
    "### SPARK CSV - Parquet"
   ]
  },
  {
   "cell_type": "code",
   "execution_count": null,
   "id": "cd74cff9",
   "metadata": {},
   "outputs": [],
   "source": [
    "!ipython ./claimed/component-library/transform/spark-csv-to-parquet.ipynb data_dir=./data/"
   ]
  },
  {
   "cell_type": "markdown",
   "id": "3e00d515",
   "metadata": {},
   "source": [
    "### Condense parquet file (Like ZIP)"
   ]
  },
  {
   "cell_type": "code",
   "execution_count": null,
   "id": "f01c4fc8",
   "metadata": {},
   "outputs": [],
   "source": [
    "!ipython ./claimed/component-library/transform/spark-condense-parquet.ipynb data_dir=./data/"
   ]
  },
  {
   "cell_type": "markdown",
   "id": "01e89ac1",
   "metadata": {},
   "source": [
    "### Obtain access to Cloud Object Store and Upload"
   ]
  },
  {
   "cell_type": "code",
   "execution_count": null,
   "id": "b34ea6e5",
   "metadata": {},
   "outputs": [],
   "source": [
    "%%bash\n",
    "export access_key_id='access_key_id=99ec078426fc4facbabb929d175c0b9f'\n",
    "export secret_access_key='secret_access_key=b36e1d3078559f5495a53e2045b1937147d0ab8d5a096a0c'\n",
    "export endpoint='endpoint=https://s3.eu-de.cloud-object-storage.appdomain.cloud'\n",
    "export bucket_name='bucket_name=cloud-object-storage-po-cos-standard-v6b'\n",
    "export source_file='source_file=data_condensed.parquet'\n",
    "export destination_file='destination_file=data.parquet'\n",
    "export data_dir='data_dir=./data/'\n",
    "ipython ./claimed/component-library/output/upload-to-cos.ipynb $access_key_id $secret_access_key $endpoint $bucket_name $source_file $destination_file $data_dir"
   ]
  }
 ],
 "metadata": {
  "kernelspec": {
   "display_name": "Python 3.9.12 ('base')",
   "language": "python",
   "name": "python3"
  },
  "language_info": {
   "codemirror_mode": {
    "name": "ipython",
    "version": 3
   },
   "file_extension": ".py",
   "mimetype": "text/x-python",
   "name": "python",
   "nbconvert_exporter": "python",
   "pygments_lexer": "ipython3",
   "version": "3.9.12"
  },
  "vscode": {
   "interpreter": {
    "hash": "c67f2eed8dd365cd817617ab92861ae1ab96cd131cdeb4bc0dbeec1ba84aacfa"
   }
  }
 },
 "nbformat": 4,
 "nbformat_minor": 5
}
